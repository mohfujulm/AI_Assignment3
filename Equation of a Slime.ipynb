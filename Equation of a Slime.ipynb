{
 "cells": [
  {
   "cell_type": "markdown",
   "id": "e83102d2",
   "metadata": {},
   "source": [
    "<a href=\"https://colab.research.google.com/github/mohfujulm/AI_Assignment3/blob/main/Equation%20of%20a%20Slime.ipynb\" target=\"_parent\"><img src=\"https://colab.research.google.com/assets/colab-badge.svg\" alt=\"Open In Colab\"/></a>"
   ]
  },
  {
   "cell_type": "code",
   "execution_count": 295,
   "id": "345d16e9",
   "metadata": {},
   "outputs": [],
   "source": [
    "import matplotlib.pyplot as plt\n",
    "import pandas as pd\n",
    "import numpy as np\n",
    "from sklearn.model_selection import train_test_split\n",
    "from sklearn import linear_model\n",
    "from sklearn.model_selection import cross_val_score\n",
    "from sklearn.model_selection import KFold\n",
    "from sklearn.preprocessing import PolynomialFeatures\n",
    "from IPython.display import display, Math, Latex"
   ]
  },
  {
   "cell_type": "code",
   "execution_count": 296,
   "id": "4da4f240",
   "metadata": {},
   "outputs": [
    {
     "data": {
      "text/html": [
       "<div>\n",
       "<style scoped>\n",
       "    .dataframe tbody tr th:only-of-type {\n",
       "        vertical-align: middle;\n",
       "    }\n",
       "\n",
       "    .dataframe tbody tr th {\n",
       "        vertical-align: top;\n",
       "    }\n",
       "\n",
       "    .dataframe thead th {\n",
       "        text-align: right;\n",
       "    }\n",
       "</style>\n",
       "<table border=\"1\" class=\"dataframe\">\n",
       "  <thead>\n",
       "    <tr style=\"text-align: right;\">\n",
       "      <th></th>\n",
       "      <th>Temperature °C</th>\n",
       "      <th>Mols KCL</th>\n",
       "      <th>Size nm^3</th>\n",
       "    </tr>\n",
       "  </thead>\n",
       "  <tbody>\n",
       "    <tr>\n",
       "      <th>0</th>\n",
       "      <td>469</td>\n",
       "      <td>647</td>\n",
       "      <td>6.244743e+05</td>\n",
       "    </tr>\n",
       "    <tr>\n",
       "      <th>1</th>\n",
       "      <td>403</td>\n",
       "      <td>694</td>\n",
       "      <td>5.779610e+05</td>\n",
       "    </tr>\n",
       "    <tr>\n",
       "      <th>2</th>\n",
       "      <td>302</td>\n",
       "      <td>975</td>\n",
       "      <td>6.196847e+05</td>\n",
       "    </tr>\n",
       "    <tr>\n",
       "      <th>3</th>\n",
       "      <td>779</td>\n",
       "      <td>916</td>\n",
       "      <td>1.460449e+06</td>\n",
       "    </tr>\n",
       "    <tr>\n",
       "      <th>4</th>\n",
       "      <td>901</td>\n",
       "      <td>18</td>\n",
       "      <td>4.325726e+04</td>\n",
       "    </tr>\n",
       "    <tr>\n",
       "      <th>5</th>\n",
       "      <td>545</td>\n",
       "      <td>637</td>\n",
       "      <td>7.124634e+05</td>\n",
       "    </tr>\n",
       "    <tr>\n",
       "      <th>6</th>\n",
       "      <td>660</td>\n",
       "      <td>519</td>\n",
       "      <td>7.006960e+05</td>\n",
       "    </tr>\n",
       "    <tr>\n",
       "      <th>7</th>\n",
       "      <td>143</td>\n",
       "      <td>869</td>\n",
       "      <td>2.718260e+05</td>\n",
       "    </tr>\n",
       "    <tr>\n",
       "      <th>8</th>\n",
       "      <td>89</td>\n",
       "      <td>461</td>\n",
       "      <td>8.919803e+04</td>\n",
       "    </tr>\n",
       "    <tr>\n",
       "      <th>9</th>\n",
       "      <td>294</td>\n",
       "      <td>776</td>\n",
       "      <td>4.770210e+05</td>\n",
       "    </tr>\n",
       "    <tr>\n",
       "      <th>10</th>\n",
       "      <td>991</td>\n",
       "      <td>117</td>\n",
       "      <td>2.441771e+05</td>\n",
       "    </tr>\n",
       "    <tr>\n",
       "      <th>11</th>\n",
       "      <td>307</td>\n",
       "      <td>781</td>\n",
       "      <td>5.006455e+05</td>\n",
       "    </tr>\n",
       "    <tr>\n",
       "      <th>12</th>\n",
       "      <td>206</td>\n",
       "      <td>70</td>\n",
       "      <td>3.145200e+04</td>\n",
       "    </tr>\n",
       "    <tr>\n",
       "      <th>13</th>\n",
       "      <td>437</td>\n",
       "      <td>599</td>\n",
       "      <td>5.390215e+05</td>\n",
       "    </tr>\n",
       "    <tr>\n",
       "      <th>14</th>\n",
       "      <td>566</td>\n",
       "      <td>75</td>\n",
       "      <td>9.185271e+04</td>\n",
       "    </tr>\n",
       "  </tbody>\n",
       "</table>\n",
       "</div>"
      ],
      "text/plain": [
       "    Temperature °C  Mols KCL     Size nm^3\n",
       "0              469       647  6.244743e+05\n",
       "1              403       694  5.779610e+05\n",
       "2              302       975  6.196847e+05\n",
       "3              779       916  1.460449e+06\n",
       "4              901        18  4.325726e+04\n",
       "5              545       637  7.124634e+05\n",
       "6              660       519  7.006960e+05\n",
       "7              143       869  2.718260e+05\n",
       "8               89       461  8.919803e+04\n",
       "9              294       776  4.770210e+05\n",
       "10             991       117  2.441771e+05\n",
       "11             307       781  5.006455e+05\n",
       "12             206        70  3.145200e+04\n",
       "13             437       599  5.390215e+05\n",
       "14             566        75  9.185271e+04"
      ]
     },
     "execution_count": 296,
     "metadata": {},
     "output_type": "execute_result"
    }
   ],
   "source": [
    "# Using pandas load the dataset (load remotely, not locally)\n",
    "url = \"https://raw.githubusercontent.com/profmcnich/example_notebook/main/science_data_large.csv\"\n",
    "slime = pd.read_csv(url)\n",
    "\n",
    "# Output the first 15 rows of the data\n",
    "slime.head(15)\n"
   ]
  },
  {
   "cell_type": "code",
   "execution_count": 297,
   "id": "d299c125",
   "metadata": {},
   "outputs": [
    {
     "name": "stdout",
     "output_type": "stream",
     "text": [
      "<class 'pandas.core.frame.DataFrame'>\n",
      "RangeIndex: 1000 entries, 0 to 999\n",
      "Data columns (total 3 columns):\n",
      " #   Column          Non-Null Count  Dtype  \n",
      "---  ------          --------------  -----  \n",
      " 0   Temperature °C  1000 non-null   int64  \n",
      " 1   Mols KCL        1000 non-null   int64  \n",
      " 2   Size nm^3       1000 non-null   float64\n",
      "dtypes: float64(1), int64(2)\n",
      "memory usage: 23.6 KB\n"
     ]
    }
   ],
   "source": [
    "slime.info()"
   ]
  },
  {
   "cell_type": "code",
   "execution_count": 298,
   "id": "6991a37b",
   "metadata": {},
   "outputs": [
    {
     "name": "stdout",
     "output_type": "stream",
     "text": [
      "Number of datapoints:  1000\n",
      "Average temperature:  500.5 °C\n",
      "Median temperature:  500.5 °C\n",
      "Average Mols:  471.53\n",
      "Median Mols:  459.5\n",
      "Average Size:  508611.10302880924 nm³\n",
      "Median Size:  382718.22860000003 nm³\n"
     ]
    }
   ],
   "source": [
    "# Display a summary of the table information (number of datapoints, etc.)\n",
    "# Summary statistics\n",
    "numberDataPoints = slime[\"Temperature °C\"].count()\n",
    "avgTemperature = slime[\"Temperature °C\"].mean()\n",
    "medTemperature = slime[\"Temperature °C\"].median()\n",
    "avgMolsKCL = slime[\"Mols KCL\"].mean()\n",
    "medMolsKCL = slime[\"Mols KCL\"].median() \n",
    "avgSize = slime[\"Size nm^3\"].mean()\n",
    "medSize = slime[\"Size nm^3\"].median() \n",
    "\n",
    "print(\"Number of datapoints: \", numberDataPoints)\n",
    "print(\"Average temperature: \", avgTemperature, \"°C\")\n",
    "print(\"Median temperature: \", medTemperature, \"°C\")\n",
    "print(\"Average Mols: \", avgMolsKCL)\n",
    "print(\"Median Mols: \", medMolsKCL)\n",
    "print(\"Average Size: \", avgSize, \"nm\\u00b3\")\n",
    "print(\"Median Size: \", medSize, \"nm\\u00b3\")"
   ]
  },
  {
   "cell_type": "code",
   "execution_count": 299,
   "id": "8fcb0d89",
   "metadata": {},
   "outputs": [
    {
     "data": {
      "text/plain": [
       "LinearRegression()"
      ]
     },
     "execution_count": 299,
     "metadata": {},
     "output_type": "execute_result"
    }
   ],
   "source": [
    "# Take the pandas dataset and split it into our features (X) and label (y)\n",
    "slimeX = slime[[\"Temperature °C\", \"Mols KCL\"]]\n",
    "slimeY = slime[\"Size nm^3\"]\n",
    "\n",
    "# Use sklearn to split the features and labels into a training/test set. (90% train, 10% test)\n",
    "slimeX_train, slimeX_test, slimeY_train, slimeY_test = train_test_split(slimeX, slimeY, test_size=0.1)\n",
    "\n",
    "# Use sklearn to train a model on the training set\n",
    "reg = linear_model.LinearRegression()\n",
    "reg.fit(slimeX_train.values, slimeY_train.values)"
   ]
  },
  {
   "cell_type": "code",
   "execution_count": 300,
   "id": "5809ed0d",
   "metadata": {},
   "outputs": [
    {
     "name": "stdout",
     "output_type": "stream",
     "text": [
      "Sample temperature and mols KCL from test set: \n",
      " [[431 860]]\n",
      "Corresponding actual growth from test set: \n",
      " [767623.4286]\n",
      "Predicted growth from trained model: \n",
      " [841440.84558001]\n"
     ]
    }
   ],
   "source": [
    "# Create a sample datapoint and predict the output of that sample with the trained model\n",
    "\n",
    "# Sample datapoint from test set \n",
    "sampleTestX = slimeX_test.tail(1).values\n",
    "sampleTestY = slimeY_test.tail(1).values\n",
    "\n",
    "print(\"Sample temperature and mols KCL from test set: \\n\", sampleTestX) \n",
    "print(\"Corresponding actual growth from test set: \\n\", sampleTestY)     #actual growth\n",
    "print(\"Predicted growth from trained model: \\n\", reg.predict(sampleTestX)) #predicted growth"
   ]
  },
  {
   "cell_type": "code",
   "execution_count": 301,
   "id": "d8004d58",
   "metadata": {},
   "outputs": [
    {
     "name": "stdout",
     "output_type": "stream",
     "text": [
      "Model Score Test Data: \n",
      " 0.8991824201297934\n"
     ]
    }
   ],
   "source": [
    "# Report on the score for that model, in your own words (markdown, not code) explain what the score means\n",
    "#print(\"Model Score Training Data: \\n\", reg.score(slimeX_train, slimeY_train))\n",
    "print(\"Model Score Test Data: \\n\", reg.score(slimeX_test, slimeY_test))"
   ]
  },
  {
   "cell_type": "markdown",
   "id": "bffb67e7",
   "metadata": {},
   "source": [
    "This score from the model is the coefficient of determination of the prediction, and is an indicator of the accuracy of the model.  In this case, the model had a score of about 0.89 on the test data set, indicating that the model is fairly good and accurate at making predictions of the slime's growth, given input values for the amount of heat and potassium chloride the slime receives.  The closer a score is to 1, the more accurate the model is."
   ]
  },
  {
   "cell_type": "code",
   "execution_count": 302,
   "id": "2dc709ca",
   "metadata": {},
   "outputs": [
    {
     "name": "stdout",
     "output_type": "stream",
     "text": [
      "Coefficient: \n",
      " [ 873.51045827 1017.63438507]\n",
      "Intercept: \n",
      " -410207.73309773614\n"
     ]
    }
   ],
   "source": [
    "# Extract the coefficents and intercept from the model and write an equation for your h(x) using LaTeX\n",
    "print(\"Coefficient: \\n\", reg.coef_)\n",
    "print(\"Intercept: \\n\", reg.intercept_)"
   ]
  },
  {
   "cell_type": "markdown",
   "id": "92e7343a",
   "metadata": {},
   "source": [
    "### Equation: $$ y = 873.51045x_{1} + 1017.63438x_{2} - 410207.733098 $$"
   ]
  },
  {
   "cell_type": "code",
   "execution_count": 303,
   "id": "ac59b28a",
   "metadata": {},
   "outputs": [
    {
     "name": "stdout",
     "output_type": "stream",
     "text": [
      "[0.89219478 0.8486749  0.8185175  0.87192695 0.85550733 0.84121287\n",
      " 0.90549518 0.86664445 0.83100571 0.85415741]\n",
      "\n",
      "Average of the scores from the cross_val_score method:  0.8585337074673118\n"
     ]
    }
   ],
   "source": [
    "# Use the cross_val_score function to repeat your experiment across many shuffles of the data\n",
    "\n",
    "nSplits = 10\n",
    "kf = KFold(n_splits=nSplits, shuffle=True, random_state=None)\n",
    "scores = cross_val_score(reg, slimeX, slimeY, cv = kf)\n",
    "print(scores)\n",
    "\n",
    "scoresAvg = 0\n",
    "for i in range(0, len(scores)):\n",
    "    scoresAvg += scores[i]\n",
    "scoresAvg = scoresAvg / len(scores)\n",
    "\n",
    "print(\"\\nAverage of the scores from the cross_val_score method: \", scoresAvg)\n",
    "\n",
    "# Report on their finding and their significance"
   ]
  },
  {
   "cell_type": "markdown",
   "id": "1f1855d7",
   "metadata": {},
   "source": [
    "Above, we use cross validation to test the accuracy/effectiveness of the model created previously.  I used 10 folds, with the dataset shuffled randomly.  The accuracy of the cross validation method is determined by taking the average of the accuracy scores for each of the 10 folds.  This helps us avoid the problem of misleading accuracy due to overfitting, and gives us a good idea of how well this model will perform with new data.  Like the scores previously, values range from 0 to 1, and with cross validation scores averaging around ~0.85, the model is fairly accurate.   "
   ]
  },
  {
   "cell_type": "code",
   "execution_count": 304,
   "id": "85c963c4",
   "metadata": {},
   "outputs": [
    {
     "data": {
      "text/plain": [
       "LinearRegression()"
      ]
     },
     "execution_count": 304,
     "metadata": {},
     "output_type": "execute_result"
    }
   ],
   "source": [
    "# Using the PolynomialFeatures library perform another regression on an augmented dataset of degree 2\n",
    "\n",
    "poly_reg = PolynomialFeatures(degree=2)\n",
    "Xpoly = poly.fit_transform(slimeX_train)\n",
    "poly_reg.fit(slimeX_train, slimeY_train)\n",
    "\n",
    "model = linear_model.LinearRegression()\n",
    "model.fit(Xpoly, slimeY_train)\n",
    "#print(model.predict(poly.fit_transform(slimeX_test)))\n"
   ]
  },
  {
   "cell_type": "code",
   "execution_count": 305,
   "id": "4dfde92d",
   "metadata": {},
   "outputs": [
    {
     "name": "stdout",
     "output_type": "stream",
     "text": [
      "Sample temperature and mols KCL from test set: \n",
      " [[431 860]]\n",
      "Corresponding actual growth from test set: \n",
      " [767623.4286]\n",
      "Predicted growth from trained model: \n",
      " [767623.42858844]\n",
      "\n",
      "Polynomial Regression Model Score using Test Data: \n",
      " 1.0\n",
      "\n",
      "Coefficients: \n",
      " [ 0.00000000e+00  1.20000000e+01 -1.49832999e-07 -5.17452747e-11\n",
      "  2.00000000e+00  2.85714287e-02]\n",
      "Intercept: \n",
      " 1.5337311197072268e-05\n"
     ]
    }
   ],
   "source": [
    "# Report on the metrics and output the resultant equation as you did in Part 3.\n",
    "# Sample datapoint from test set \n",
    "sampleTestX = slimeX_test.tail(1).values\n",
    "sampleTestY = slimeY_test.tail(1).values\n",
    "\n",
    "print(\"Sample temperature and mols KCL from test set: \\n\", sampleTestX) \n",
    "print(\"Corresponding actual growth from test set: \\n\", sampleTestY)     #actual growth\n",
    "print(\"Predicted growth from trained model: \\n\", model.predict(poly.fit_transform(sampleTestX))) #predicted growth\n",
    "\n",
    "polyScore = model.score(poly.fit_transform(slimeX_test), slimeY_test)\n",
    "print(\"\\nPolynomial Regression Model Score using Test Data: \\n\", polyScore)\n",
    "\n",
    "print(\"\\nCoefficients: \\n\", model.coef_)\n",
    "print(\"Intercept: \\n\", model.intercept_)"
   ]
  },
  {
   "cell_type": "markdown",
   "id": "2eb66f7f",
   "metadata": {},
   "source": [
    "After creating the polynomial regression, I picked the same datapoint used in the purely linear regression model and compared its result against the actual corresponding value from the test data for slime growth.  The numbers were very close, off only by a very small amount.  Calculating the score of the model against the test data, we get a value of 1.0, indicating that the model is very accurate at predicting the slime growth based on inputs of heat and potassium chloride.  "
   ]
  },
  {
   "cell_type": "markdown",
   "id": "94fbaa1f",
   "metadata": {},
   "source": [
    "### Equation: $$ y = .00001 + 12x^{2} + 2x^{5} + .02857x^{6}$$"
   ]
  },
  {
   "cell_type": "code",
   "execution_count": null,
   "id": "ef37a3e4",
   "metadata": {},
   "outputs": [],
   "source": []
  }
 ],
 "metadata": {
  "kernelspec": {
   "display_name": "Python 3 (ipykernel)",
   "language": "python",
   "name": "python3"
  },
  "language_info": {
   "codemirror_mode": {
    "name": "ipython",
    "version": 3
   },
   "file_extension": ".py",
   "mimetype": "text/x-python",
   "name": "python",
   "nbconvert_exporter": "python",
   "pygments_lexer": "ipython3",
   "version": "3.9.7"
  }
 },
 "nbformat": 4,
 "nbformat_minor": 5
}
